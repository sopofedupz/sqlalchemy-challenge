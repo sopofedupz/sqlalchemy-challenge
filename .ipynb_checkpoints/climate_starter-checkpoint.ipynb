{
 "cells": [
  {
   "cell_type": "code",
   "execution_count": 1,
   "metadata": {},
   "outputs": [],
   "source": [
    "#import dependencies\n",
    "#%matplotlib inline\n",
    "#from matplotlib import style\n",
    "#plt.style.use('fivethirtyeight')\n",
    "import matplotlib.pyplot as plt"
   ]
  },
  {
   "cell_type": "code",
   "execution_count": 2,
   "metadata": {},
   "outputs": [],
   "source": [
    "import numpy as np\n",
    "import pandas as pd"
   ]
  },
  {
   "cell_type": "code",
   "execution_count": 3,
   "metadata": {},
   "outputs": [],
   "source": [
    "import datetime as dt"
   ]
  },
  {
   "cell_type": "markdown",
   "metadata": {},
   "source": [
    "# Reflect Tables into SQLAlchemy ORM"
   ]
  },
  {
   "cell_type": "code",
   "execution_count": 4,
   "metadata": {},
   "outputs": [],
   "source": [
    "# Python SQL toolkit and Object Relational Mapper\n",
    "import sqlalchemy\n",
    "from sqlalchemy.ext.automap import automap_base\n",
    "from sqlalchemy.orm import Session\n",
    "from sqlalchemy import create_engine, func, inspect"
   ]
  },
  {
   "cell_type": "code",
   "execution_count": 5,
   "metadata": {},
   "outputs": [],
   "source": [
    "engine = create_engine(\"sqlite:///Resources/hawaii.sqlite\")"
   ]
  },
  {
   "cell_type": "code",
   "execution_count": 6,
   "metadata": {},
   "outputs": [],
   "source": [
    "# reflect an existing database into a new model\n",
    "Base = automap_base()\n",
    "# reflect the tables\n",
    "Base.prepare(engine, reflect=True)"
   ]
  },
  {
   "cell_type": "code",
   "execution_count": 7,
   "metadata": {},
   "outputs": [
    {
     "data": {
      "text/plain": [
       "['measurement', 'station']"
      ]
     },
     "execution_count": 7,
     "metadata": {},
     "output_type": "execute_result"
    }
   ],
   "source": [
    "# We can view all of the classes that automap found\n",
    "Base.classes.keys()"
   ]
  },
  {
   "cell_type": "code",
   "execution_count": 8,
   "metadata": {},
   "outputs": [],
   "source": [
    "# Save references to each table\n",
    "Measurement = Base.classes.measurement\n",
    "Station = Base.classes.station"
   ]
  },
  {
   "cell_type": "code",
   "execution_count": 9,
   "metadata": {},
   "outputs": [],
   "source": [
    "# Create our session (link) from Python to the DB\n",
    "session = Session(engine)\n",
    "conn = engine.connect()"
   ]
  },
  {
   "cell_type": "markdown",
   "metadata": {},
   "source": [
    "# Exploratory Climate Analysis"
   ]
  },
  {
   "cell_type": "code",
   "execution_count": 10,
   "metadata": {},
   "outputs": [
    {
     "name": "stdout",
     "output_type": "stream",
     "text": [
      "id INTEGER\n",
      "station TEXT\n",
      "date TEXT\n",
      "prcp FLOAT\n",
      "tobs FLOAT\n"
     ]
    }
   ],
   "source": [
    "# Inspect the database\n",
    "\n",
    "inspector = inspect(engine)\n",
    "inspector.get_table_names()\n",
    "\n",
    "# Get a list of column names and types\n",
    "columns = inspector.get_columns('measurement')\n",
    "for c in columns:\n",
    "    print(c['name'], c[\"type\"])"
   ]
  },
  {
   "cell_type": "code",
   "execution_count": 11,
   "metadata": {},
   "outputs": [
    {
     "data": {
      "text/plain": [
       "('2017-08-23')"
      ]
     },
     "execution_count": 11,
     "metadata": {},
     "output_type": "execute_result"
    }
   ],
   "source": [
    "# query the latest date in the database\n",
    "latest_date = session.query(Measurement.date).order_by(Measurement.date.desc()).first()\n",
    "\n",
    "# check latest date in database\n",
    "latest_date"
   ]
  },
  {
   "cell_type": "code",
   "execution_count": 12,
   "metadata": {},
   "outputs": [
    {
     "data": {
      "text/plain": [
       "datetime.date(2016, 8, 23)"
      ]
     },
     "execution_count": 12,
     "metadata": {},
     "output_type": "execute_result"
    }
   ],
   "source": [
    "# getting the the 1-yr prior date to retrieve the previous 1 year data\n",
    "latestDate = list(np.ravel(latest_date))\n",
    "LatestDate = dt.datetime.strptime(latestDate[0],'%Y-%m-%d').date()\n",
    "year_ago = LatestDate - dt.timedelta(days=365)\n",
    "\n",
    "# check the 1-year date from the latest date\n",
    "year_ago"
   ]
  },
  {
   "cell_type": "code",
   "execution_count": 13,
   "metadata": {},
   "outputs": [],
   "source": [
    "# filter the 1-year data\n",
    "results = session.query(Measurement.date, Measurement.prcp).\\\n",
    "    filter(Measurement.date.between(year_ago, LatestDate)).order_by(Measurement.date.desc()).all()\n",
    "\n",
    "# Unpack the date and prcp from results and save into separate lists\n",
    "#date = [result[0] for result in results]\n",
    "#prcp = [result[1] for result in results]"
   ]
  },
  {
   "cell_type": "code",
   "execution_count": 14,
   "metadata": {},
   "outputs": [],
   "source": [
    "# loading date and precipitation into dataframe\n",
    "prcp_table = pd.DataFrame(results)\n",
    "\n",
    "# drop rows with missing prcp\n",
    "#df = df.dropna()\n",
    "\n",
    "# set date column as index\n",
    "prcp_table.set_index('date', inplace=True)\n",
    "\n",
    "# sort dataframe by index (ascending)\n",
    "prcp_table.sort_index(ascending=True, inplace=True)"
   ]
  },
  {
   "cell_type": "code",
   "execution_count": 15,
   "metadata": {},
   "outputs": [
    {
     "data": {
      "image/png": "[encoded data removed]",
      "text/plain": [
       "<Figure size 432x288 with 1 Axes>"
      ]
     },
     "metadata": {},
     "output_type": "display_data"
    }
   ],
   "source": [
    "import seaborn as sns\n",
    "sns.set()\n",
    "\n",
    "# Plot the dataframe as bar chart using pandas plotting\n",
    "ax = prcp_table.plot(title = 'Precipitation between ' + prcp_table.first_valid_index() + ' & ' + latest_date[0])\n",
    "\n",
    "ax.xaxis.set_major_formatter(plt.NullFormatter())\n",
    "\n",
    "# add formatting\n",
    "ax.legend([\"Precipitation\"]);"
   ]
  },
  {
   "cell_type": "code",
   "execution_count": 16,
   "metadata": {},
   "outputs": [
    {
     "data": {
      "text/html": [
       "<div>\n",
       "<style scoped>\n",
       "    .dataframe tbody tr th:only-of-type {\n",
       "        vertical-align: middle;\n",
       "    }\n",
       "\n",
       "    .dataframe tbody tr th {\n",
       "        vertical-align: top;\n",
       "    }\n",
       "\n",
       "    .dataframe thead th {\n",
       "        text-align: right;\n",
       "    }\n",
       "</style>\n",
       "<table border=\"1\" class=\"dataframe\">\n",
       "  <thead>\n",
       "    <tr style=\"text-align: right;\">\n",
       "      <th></th>\n",
       "      <th>prcp</th>\n",
       "    </tr>\n",
       "  </thead>\n",
       "  <tbody>\n",
       "    <tr>\n",
       "      <th>count</th>\n",
       "      <td>2021.000000</td>\n",
       "    </tr>\n",
       "    <tr>\n",
       "      <th>mean</th>\n",
       "      <td>0.177279</td>\n",
       "    </tr>\n",
       "    <tr>\n",
       "      <th>std</th>\n",
       "      <td>0.461190</td>\n",
       "    </tr>\n",
       "    <tr>\n",
       "      <th>min</th>\n",
       "      <td>0.000000</td>\n",
       "    </tr>\n",
       "    <tr>\n",
       "      <th>25%</th>\n",
       "      <td>0.000000</td>\n",
       "    </tr>\n",
       "    <tr>\n",
       "      <th>50%</th>\n",
       "      <td>0.020000</td>\n",
       "    </tr>\n",
       "    <tr>\n",
       "      <th>75%</th>\n",
       "      <td>0.130000</td>\n",
       "    </tr>\n",
       "    <tr>\n",
       "      <th>max</th>\n",
       "      <td>6.700000</td>\n",
       "    </tr>\n",
       "  </tbody>\n",
       "</table>\n",
       "</div>"
      ],
      "text/plain": [
       "              prcp\n",
       "count  2021.000000\n",
       "mean      0.177279\n",
       "std       0.461190\n",
       "min       0.000000\n",
       "25%       0.000000\n",
       "50%       0.020000\n",
       "75%       0.130000\n",
       "max       6.700000"
      ]
     },
     "execution_count": 16,
     "metadata": {},
     "output_type": "execute_result"
    }
   ],
   "source": [
    "prcp_table.describe()"
   ]
  },
  {
   "cell_type": "code",
   "execution_count": 17,
   "metadata": {},
   "outputs": [
    {
     "name": "stdout",
     "output_type": "stream",
     "text": [
      "There are 9 stations in this dataset.\n"
     ]
    }
   ],
   "source": [
    "# Design a query to show how many stations are available in this dataset?\n",
    "station_count = session.query(Measurement).distinct(Measurement.station).group_by(Measurement.station).count()\n",
    "print(\"There are \" + str(station_count) + \" stations in this dataset.\")"
   ]
  },
  {
   "cell_type": "code",
   "execution_count": 18,
   "metadata": {},
   "outputs": [
    {
     "name": "stdout",
     "output_type": "stream",
     "text": [
      "There are 2772 of observations at WAIHEE 837.5, HI US (USC00519281).\n",
      "There are 2724 of observations at WAIKIKI 717.2, HI US (USC00519397).\n",
      "There are 2709 of observations at KANEOHE 838.1, HI US (USC00513117).\n",
      "There are 2669 of observations at WAIMANALO EXPERIMENTAL FARM, HI US (USC00519523).\n",
      "There are 2612 of observations at MANOA LYON ARBO 785.2, HI US (USC00516128).\n",
      "There are 2202 of observations at KUALOA RANCH HEADQUARTERS 886.9, HI US (USC00514830).\n",
      "There are 1979 of observations at HONOLULU OBSERVATORY 702.2, HI US (USC00511918).\n",
      "There are 1372 of observations at PEARL CITY, HI US (USC00517948).\n",
      "There are 511 of observations at UPPER WAHIAWA 874.3, HI US (USC00518838).\n"
     ]
    }
   ],
   "source": [
    "# What are the most active stations? (i.e. what stations have the most rows)?\n",
    "# List the stations and the counts in descending order.\n",
    "\n",
    "obs_n = func.count(Measurement.station)\n",
    "\n",
    "station_list = session.query(Measurement.station, Station.name, obs_n).\\\n",
    "                    join(Measurement, Measurement.station == Station.station).group_by(Measurement.station).\\\n",
    "                    order_by(obs_n.desc()).all()\n",
    "\n",
    "# Display the list\n",
    "for station in station_list:\n",
    "    print(\"There are \" + str(station[2]) + \" of observations at \" + station[1] + \" (\" + station[0] + \").\")"
   ]
  },
  {
   "cell_type": "code",
   "execution_count": 19,
   "metadata": {},
   "outputs": [
    {
     "name": "stdout",
     "output_type": "stream",
     "text": [
      "The station with the highest number of observations is WAIHEE 837.5, HI US (USC00519281), with a count of 2772!\n",
      "The average temperature recorded at WAIHEE 837.5, HI US is 71.7.\n",
      "The highest temperature recorded at WAIHEE 837.5, HI US is 85.0.\n",
      "The highest temperature recorded at WAIHEE 837.5, HI US is 54.0.\n"
     ]
    }
   ],
   "source": [
    "# Get the station with highest number of observations\n",
    "highest_obs = session.query(Measurement.station, Station.name, obs_n).\\\n",
    "                    join(Measurement, Measurement.station == Station.station).group_by(Measurement.station).\\\n",
    "                    order_by(obs_n.desc()).first()\n",
    "\n",
    "statement = \"The station with the highest number of observations is \"\\\n",
    "            + highest_obs[1] + \" (\" + highest_obs[0] + \"), with a count of \" + str(highest_obs[2]) + \"!\"\n",
    "\n",
    "# Get the average temperature of the station with the highest number of observations\n",
    "avg_temp = session.query(func.avg(Measurement.tobs)).\\\n",
    "                    filter(Measurement.station == highest_obs[0])\n",
    "average_temp = round(avg_temp[0][0],1)\n",
    "\n",
    "# Get the highest temperature of the station with the highest number of observations\n",
    "max_temp = session.query(func.max(Measurement.tobs)).\\\n",
    "                    filter(Measurement.station == highest_obs[0])\n",
    "highest_temp = round(max_temp[0][0],1)\n",
    "\n",
    "# Get the lowest temperature of the station with the highest number of observations\n",
    "min_temp = session.query(func.min(Measurement.tobs)).\\\n",
    "                    filter(Measurement.station == highest_obs[0])\n",
    "lowest_temp = round(min_temp[0][0],1)\n",
    "\n",
    "print(statement)\n",
    "print(\"The average temperature recorded at \" + highest_obs[1] + \" is \" + str(average_temp) + \".\")\n",
    "print(\"The highest temperature recorded at \" + highest_obs[1] + \" is \" + str(highest_temp) + \".\")\n",
    "print(\"The highest temperature recorded at \" + highest_obs[1] + \" is \" + str(lowest_temp) + \".\")"
   ]
  },
  {
   "cell_type": "code",
   "execution_count": 20,
   "metadata": {},
   "outputs": [
    {
     "data": {
      "image/png": "[encoded data removed]",
      "text/plain": [
       "<Figure size 432x288 with 1 Axes>"
      ]
     },
     "metadata": {},
     "output_type": "display_data"
    }
   ],
   "source": [
    "# Get the tobs of station with highest number of obs\n",
    "obs_highest_tobs = session.query(Measurement.station, Measurement.tobs).\\\n",
    "                    filter(Measurement.station == highest_obs[0]).\\\n",
    "                    filter(Measurement.date.between(year_ago,LatestDate)).\\\n",
    "                    order_by(Measurement.tobs).all()\n",
    "\n",
    "tobs_df = pd.DataFrame(obs_highest_tobs)\n",
    "tobs_df.set_index('station', inplace=True)\n",
    "\n",
    "# Plot results as histogram\n",
    "tobs_df.plot.hist(bins=12);"
   ]
  },
  {
   "cell_type": "code",
   "execution_count": 21,
   "metadata": {},
   "outputs": [
    {
     "name": "stdout",
     "output_type": "stream",
     "text": [
      "[(62.0, 69.57142857142857, 74.0)]\n"
     ]
    }
   ],
   "source": [
    "# This function called `calc_temps` will accept start date and end date in the format '%Y-%m-%d' \n",
    "# and return the minimum, average, and maximum temperatures for that range of dates\n",
    "def calc_temps(start_date, end_date):\n",
    "    \"\"\"TMIN, TAVG, and TMAX for a list of dates.\n",
    "    \n",
    "    Args:\n",
    "        start_date (string): A date string in the format %Y-%m-%d\n",
    "        end_date (string): A date string in the format %Y-%m-%d\n",
    "        \n",
    "    Returns:\n",
    "        TMIN, TAVE, and TMAX\n",
    "    \"\"\"\n",
    "    \n",
    "    return session.query(func.min(Measurement.tobs), func.avg(Measurement.tobs), func.max(Measurement.tobs)).\\\n",
    "        filter(Measurement.date >= start_date).filter(Measurement.date <= end_date).all()\n",
    "\n",
    "# function usage example\n",
    "print(calc_temps('2012-02-28', '2012-03-05'))"
   ]
  },
  {
   "cell_type": "code",
   "execution_count": 22,
   "metadata": {},
   "outputs": [
    {
     "name": "stdout",
     "output_type": "stream",
     "text": [
      "[(65.0, 71.1875, 77.0)]\n"
     ]
    }
   ],
   "source": [
    "# Use your previous function `calc_temps` to calculate the tmin, tavg, and tmax \n",
    "# for your trip using the previous year's data for those same dates.\n",
    "mytrip = f\"2020-02-15 to 2020-02-22\"\n",
    "start_date = '2017-02-15'\n",
    "end_date = '2017-02-22'\n",
    "\n",
    "print(calc_temps(start_date,end_date))\n",
    "temp = calc_temps(start_date,end_date)"
   ]
  },
  {
   "cell_type": "code",
   "execution_count": 23,
   "metadata": {},
   "outputs": [
    {
     "data": {
      "image/png": "[encoded data removed]",
      "text/plain": [
       "<Figure size 432x288 with 1 Axes>"
      ]
     },
     "metadata": {},
     "output_type": "display_data"
    }
   ],
   "source": [
    "# Plot the results from your previous query as a bar chart. \n",
    "# Use \"Trip Avg Temp\" as your Title\n",
    "# Use the average temperature for the y value\n",
    "# Use the peak-to-peak (tmax-tmin) value as the y error bar (yerr)\n",
    "\n",
    "tave = temp[0][1]\n",
    "tmin = temp[0][0]\n",
    "tmax = temp[0][2]\n",
    "\n",
    "min_error = tave - tmin\n",
    "max_error = tmax - tave\n",
    "\n",
    "yerr = np.array([[min_error], [max_error]])\n",
    "\n",
    "label = mytrip\n",
    "\n",
    "plt.bar(label,tave, color=\"orange\", yerr=yerr, alpha = 0.8)\n",
    "plt.title(\"Trip Average Temperature\")\n",
    "plt.ylim(0,100)\n",
    "plt.xlim(-1.5,1.5)\n",
    "plt.ylabel('Temp (F)');"
   ]
  },
  {
   "cell_type": "code",
   "execution_count": 24,
   "metadata": {
    "scrolled": true
   },
   "outputs": [
    {
     "data": {
      "text/html": [
       "<div>\n",
       "<style scoped>\n",
       "    .dataframe tbody tr th:only-of-type {\n",
       "        vertical-align: middle;\n",
       "    }\n",
       "\n",
       "    .dataframe tbody tr th {\n",
       "        vertical-align: top;\n",
       "    }\n",
       "\n",
       "    .dataframe thead th {\n",
       "        text-align: right;\n",
       "    }\n",
       "</style>\n",
       "<table border=\"1\" class=\"dataframe\">\n",
       "  <thead>\n",
       "    <tr style=\"text-align: right;\">\n",
       "      <th></th>\n",
       "      <th>Station</th>\n",
       "      <th>Station Name</th>\n",
       "      <th>Latitude</th>\n",
       "      <th>Longitude</th>\n",
       "      <th>Elevation</th>\n",
       "      <th>Total Rainfall</th>\n",
       "    </tr>\n",
       "  </thead>\n",
       "  <tbody>\n",
       "    <tr>\n",
       "      <th>0</th>\n",
       "      <td>USC00519281</td>\n",
       "      <td>WAIHEE 837.5, HI US</td>\n",
       "      <td>21.45167</td>\n",
       "      <td>-157.84889</td>\n",
       "      <td>32.9</td>\n",
       "      <td>1.02</td>\n",
       "    </tr>\n",
       "    <tr>\n",
       "      <th>1</th>\n",
       "      <td>USC00519523</td>\n",
       "      <td>WAIMANALO EXPERIMENTAL FARM, HI US</td>\n",
       "      <td>21.33556</td>\n",
       "      <td>-157.71139</td>\n",
       "      <td>19.5</td>\n",
       "      <td>0.87</td>\n",
       "    </tr>\n",
       "    <tr>\n",
       "      <th>2</th>\n",
       "      <td>USC00513117</td>\n",
       "      <td>KANEOHE 838.1, HI US</td>\n",
       "      <td>21.42340</td>\n",
       "      <td>-157.80150</td>\n",
       "      <td>14.6</td>\n",
       "      <td>0.86</td>\n",
       "    </tr>\n",
       "    <tr>\n",
       "      <th>3</th>\n",
       "      <td>USC00514830</td>\n",
       "      <td>KUALOA RANCH HEADQUARTERS 886.9, HI US</td>\n",
       "      <td>21.52130</td>\n",
       "      <td>-157.83740</td>\n",
       "      <td>7.0</td>\n",
       "      <td>0.79</td>\n",
       "    </tr>\n",
       "    <tr>\n",
       "      <th>4</th>\n",
       "      <td>USC00516128</td>\n",
       "      <td>MANOA LYON ARBO 785.2, HI US</td>\n",
       "      <td>21.33310</td>\n",
       "      <td>-157.80250</td>\n",
       "      <td>152.4</td>\n",
       "      <td>0.69</td>\n",
       "    </tr>\n",
       "    <tr>\n",
       "      <th>5</th>\n",
       "      <td>USC00519397</td>\n",
       "      <td>WAIKIKI 717.2, HI US</td>\n",
       "      <td>21.27160</td>\n",
       "      <td>-157.81680</td>\n",
       "      <td>3.0</td>\n",
       "      <td>0.19</td>\n",
       "    </tr>\n",
       "    <tr>\n",
       "      <th>6</th>\n",
       "      <td>USC00517948</td>\n",
       "      <td>PEARL CITY, HI US</td>\n",
       "      <td>21.39340</td>\n",
       "      <td>-157.97510</td>\n",
       "      <td>11.9</td>\n",
       "      <td>0.17</td>\n",
       "    </tr>\n",
       "  </tbody>\n",
       "</table>\n",
       "</div>"
      ],
      "text/plain": [
       "       Station                            Station Name  Latitude  Longitude  \\\n",
       "0  USC00519281                     WAIHEE 837.5, HI US  21.45167 -157.84889   \n",
       "1  USC00519523      WAIMANALO EXPERIMENTAL FARM, HI US  21.33556 -157.71139   \n",
       "2  USC00513117                    KANEOHE 838.1, HI US  21.42340 -157.80150   \n",
       "3  USC00514830  KUALOA RANCH HEADQUARTERS 886.9, HI US  21.52130 -157.83740   \n",
       "4  USC00516128            MANOA LYON ARBO 785.2, HI US  21.33310 -157.80250   \n",
       "5  USC00519397                    WAIKIKI 717.2, HI US  21.27160 -157.81680   \n",
       "6  USC00517948                       PEARL CITY, HI US  21.39340 -157.97510   \n",
       "\n",
       "   Elevation  Total Rainfall  \n",
       "0       32.9            1.02  \n",
       "1       19.5            0.87  \n",
       "2       14.6            0.86  \n",
       "3        7.0            0.79  \n",
       "4      152.4            0.69  \n",
       "5        3.0            0.19  \n",
       "6       11.9            0.17  "
      ]
     },
     "execution_count": 24,
     "metadata": {},
     "output_type": "execute_result"
    }
   ],
   "source": [
    "# Calculate the total amount of rainfall per weather station for your trip dates using the previous year's matching dates.\n",
    "# Sort this in descending order by precipitation amount and list the station, name, latitude, longitude, and elevation\n",
    "total_prcp = func.sum(Measurement.prcp)\n",
    "rainfall = session.query(Measurement.station, Station.name, Station.latitude, Station.longitude, Station.elevation, total_prcp).\\\n",
    "                    join(Measurement, Measurement.station == Station.station).\\\n",
    "                    filter(Measurement.date.between(start_date,end_date)).\\\n",
    "                    group_by(Measurement.station).\\\n",
    "                    order_by(func.sum(Measurement.prcp).desc()).all()\n",
    "\n",
    "# Unpack the data\n",
    "rainfall_station = [result[0] for result in rainfall]\n",
    "rainfall_station_name = [result[1] for result in rainfall]\n",
    "rainfall_latitude = [result[2] for result in rainfall]\n",
    "rainfall_longitude = [result[3] for result in rainfall]\n",
    "rainfall_elevation = [result[4] for result in rainfall]\n",
    "rainfall_prcp = [result[5] for result in rainfall]\n",
    "\n",
    "rainfall_df = pd.DataFrame(\n",
    "    {'Station': rainfall_station,\n",
    "     'Station Name': rainfall_station_name,\n",
    "     'Latitude': rainfall_latitude,\n",
    "     'Longitude': rainfall_longitude,\n",
    "     'Elevation': rainfall_elevation,\n",
    "     'Total Rainfall': rainfall_prcp\n",
    "    })\n",
    "\n",
    "rainfall_df"
   ]
  },
  {
   "cell_type": "markdown",
   "metadata": {},
   "source": [
    "# Optional Challenge Assignment"
   ]
  },
  {
   "cell_type": "code",
   "execution_count": 25,
   "metadata": {},
   "outputs": [
    {
     "data": {
      "text/plain": [
       "[(62.0, 69.15384615384616, 77.0)]"
      ]
     },
     "execution_count": 25,
     "metadata": {},
     "output_type": "execute_result"
    }
   ],
   "source": [
    "# Create a query that will calculate the daily normals \n",
    "# (i.e. the averages for tmin, tmax, and tavg for all historic data matching a specific month and day)\n",
    "\n",
    "def daily_normals(date):\n",
    "    \"\"\"Daily Normals.\n",
    "    \n",
    "    Args:\n",
    "        date (str): A date string in the format '%m-%d'\n",
    "        \n",
    "    Returns:\n",
    "        A list of tuples containing the daily normals, tmin, tavg, and tmax\n",
    "    \n",
    "    \"\"\"\n",
    "    \n",
    "    sel = [func.min(Measurement.tobs), func.avg(Measurement.tobs), func.max(Measurement.tobs)]\n",
    "    return session.query(*sel).filter(func.strftime(\"%m-%d\", Measurement.date) == date).all()\n",
    "    \n",
    "daily_normals(\"01-01\")"
   ]
  },
  {
   "cell_type": "code",
   "execution_count": 26,
   "metadata": {},
   "outputs": [],
   "source": [
    "# calculate the daily normals for your trip\n",
    "# push each tuple of calculations into a list called `normals`\n",
    "\n",
    "# creating an empty list to store the tuple of calculations\n",
    "normals = []\n",
    "\n",
    "# using the same start and end date as previously\n",
    "mytrip = f\"2020-02-15 to 2020-02-20\"\n",
    "start_date = '2017-02-15'\n",
    "end_date = '2017-02-22'\n",
    "\n",
    "# Use the start and end date to create a range of dates\n",
    "date_list = []\n",
    "\n",
    "d1 = dt.datetime.strptime(start_date, \"%Y-%m-%d\")\n",
    "d2 = dt.datetime.strptime(end_date, \"%Y-%m-%d\")\n",
    "days = [d1 + dt.timedelta(days=x) for x in range((d2-d1).days + 1)]\n",
    "\n",
    "for day in days:\n",
    "    date_list.append(day.strftime('%m-%d'))\n",
    "\n",
    "# Loop through the list of %m-%d strings and calculate the normals for each date\n",
    "for date in date_list:\n",
    "    normals.append(daily_normals(date))"
   ]
  },
  {
   "cell_type": "code",
   "execution_count": 27,
   "metadata": {},
   "outputs": [
    {
     "data": {
      "text/html": [
       "<div>\n",
       "<style scoped>\n",
       "    .dataframe tbody tr th:only-of-type {\n",
       "        vertical-align: middle;\n",
       "    }\n",
       "\n",
       "    .dataframe tbody tr th {\n",
       "        vertical-align: top;\n",
       "    }\n",
       "\n",
       "    .dataframe thead th {\n",
       "        text-align: right;\n",
       "    }\n",
       "</style>\n",
       "<table border=\"1\" class=\"dataframe\">\n",
       "  <thead>\n",
       "    <tr style=\"text-align: right;\">\n",
       "      <th></th>\n",
       "      <th>TMIN</th>\n",
       "      <th>TAVE</th>\n",
       "      <th>TMAX</th>\n",
       "    </tr>\n",
       "    <tr>\n",
       "      <th>date</th>\n",
       "      <th></th>\n",
       "      <th></th>\n",
       "      <th></th>\n",
       "    </tr>\n",
       "  </thead>\n",
       "  <tbody>\n",
       "    <tr>\n",
       "      <th>02-15</th>\n",
       "      <td>56.0</td>\n",
       "      <td>70.288136</td>\n",
       "      <td>79.0</td>\n",
       "    </tr>\n",
       "    <tr>\n",
       "      <th>02-16</th>\n",
       "      <td>59.0</td>\n",
       "      <td>70.482143</td>\n",
       "      <td>76.0</td>\n",
       "    </tr>\n",
       "    <tr>\n",
       "      <th>02-17</th>\n",
       "      <td>62.0</td>\n",
       "      <td>70.472727</td>\n",
       "      <td>77.0</td>\n",
       "    </tr>\n",
       "    <tr>\n",
       "      <th>02-18</th>\n",
       "      <td>63.0</td>\n",
       "      <td>70.796296</td>\n",
       "      <td>77.0</td>\n",
       "    </tr>\n",
       "    <tr>\n",
       "      <th>02-19</th>\n",
       "      <td>60.0</td>\n",
       "      <td>69.339623</td>\n",
       "      <td>77.0</td>\n",
       "    </tr>\n",
       "    <tr>\n",
       "      <th>02-20</th>\n",
       "      <td>63.0</td>\n",
       "      <td>70.140351</td>\n",
       "      <td>76.0</td>\n",
       "    </tr>\n",
       "    <tr>\n",
       "      <th>02-21</th>\n",
       "      <td>63.0</td>\n",
       "      <td>69.796296</td>\n",
       "      <td>76.0</td>\n",
       "    </tr>\n",
       "    <tr>\n",
       "      <th>02-22</th>\n",
       "      <td>60.0</td>\n",
       "      <td>70.157895</td>\n",
       "      <td>83.0</td>\n",
       "    </tr>\n",
       "  </tbody>\n",
       "</table>\n",
       "</div>"
      ],
      "text/plain": [
       "       TMIN       TAVE  TMAX\n",
       "date                        \n",
       "02-15  56.0  70.288136  79.0\n",
       "02-16  59.0  70.482143  76.0\n",
       "02-17  62.0  70.472727  77.0\n",
       "02-18  63.0  70.796296  77.0\n",
       "02-19  60.0  69.339623  77.0\n",
       "02-20  63.0  70.140351  76.0\n",
       "02-21  63.0  69.796296  76.0\n",
       "02-22  60.0  70.157895  83.0"
      ]
     },
     "execution_count": 27,
     "metadata": {},
     "output_type": "execute_result"
    }
   ],
   "source": [
    "# putting the normals data into a dataframe\n",
    "column = [\"TMIN\",\"TAVE\",\"TMAX\"]\n",
    "\n",
    "normals = [np.array(normal[0]) for normal in normals]\n",
    "normals_df = pd.DataFrame(normals, columns = column)\n",
    "\n",
    "# adding in the date\n",
    "normals_df['date'] = date_list\n",
    "normals_df.set_index('date', inplace = True)\n",
    "\n",
    "# check dataframe\n",
    "normals_df"
   ]
  },
  {
   "cell_type": "code",
   "execution_count": 28,
   "metadata": {},
   "outputs": [
    {
     "data": {
      "image/png": "[encoded data removed]",
      "text/plain": [
       "<Figure size 432x288 with 1 Axes>"
      ]
     },
     "metadata": {},
     "output_type": "display_data"
    }
   ],
   "source": [
    "# plot chart\n",
    "\n",
    "pal = [\"#89CEF8\", \"#F3B0B5\", \"#FEE3A9\"]\n",
    "normals_df.plot.area(stacked=False, color = pal)\n",
    "plt.ylabel('Observed Temperature');"
   ]
  },
  {
   "cell_type": "code",
   "execution_count": null,
   "metadata": {},
   "outputs": [],
   "source": []
  }
 ],
 "metadata": {
  "kernel_info": {
   "name": "python3"
  },
  "kernelspec": {
   "display_name": "Python 3",
   "language": "python",
   "name": "python3"
  },
  "language_info": {
   "codemirror_mode": {
    "name": "ipython",
    "version": 3
   },
   "file_extension": ".py",
   "mimetype": "text/x-python",
   "name": "python",
   "nbconvert_exporter": "python",
   "pygments_lexer": "ipython3",
   "version": "3.6.9"
  },
  "nteract": {
   "version": "0.12.3"
  },
  "varInspector": {
   "cols": {
    "lenName": 16,
    "lenType": 16,
    "lenVar": 40
   },
   "kernels_config": {
    "python": {
     "delete_cmd_postfix": "",
     "delete_cmd_prefix": "del ",
     "library": "var_list.py",
     "varRefreshCmd": "print(var_dic_list())"
    },
    "r": {
     "delete_cmd_postfix": ") ",
     "delete_cmd_prefix": "rm(",
     "library": "var_list.r",
     "varRefreshCmd": "cat(var_dic_list()) "
    }
   },
   "types_to_exclude": [
    "module",
    "function",
    "builtin_function_or_method",
    "instance",
    "_Feature"
   ],
   "window_display": false
  }
 },
 "nbformat": 4,
 "nbformat_minor": 2
}
